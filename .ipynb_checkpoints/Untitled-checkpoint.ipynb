{
 "cells": [
  {
   "cell_type": "markdown",
   "metadata": {
    "toc-hr-collapsed": false
   },
   "source": [
    "# Intro to Statistics: With 100% more Superpowers and way less Maths\n",
    "\n",
    "### The fundamentals of stats covered with minimal maths jargon by focusing on intuition and experimentation"
   ]
  },
  {
   "cell_type": "markdown",
   "metadata": {},
   "source": [
    "Probability and Statistics are two branches of mathematics which are intrinsically linked together. To properly understand one you need to atleast have a basic understanding of the other. I will attempt to explore basic statistics in this article using as little maths as possible and using simple experiments to demonstrate statistical concepts. \n",
    "\n",
    "*The only prerequisite is an understanding of basic maths like counting, arithmetic and functions. If you know some calculus you can dig deeper and explore the details behind the concepts but I won't be discussing them in this article.*\n",
    "\n",
    "Let's start by defining just a few terms to get started, then we will jump into an alternate universe (with 100% more superpowers) where we will be asked to solve a few problems. "
   ]
  },
  {
   "cell_type": "markdown",
   "metadata": {},
   "source": [
    "Our goal here is to learn statistical tools which can be used to better understand and model the world around us. These tools are used in fields ranging from biology to political science and everything in between. Wherever you find data which has valuable information buried in it, statistics is your friend. \n",
    "\n",
    "The real world is messy and unpredictable so how can we hope to model it ourselves? The key is to quantify the randomness inherent in these real world systems. This quantification is called **Probability**, it's a number between 0 and 1. Here if an event has a probability of 0, it means it is impossible to occur, and 1 means that the event is completely certain. "
   ]
  },
  {
   "cell_type": "markdown",
   "metadata": {},
   "source": [
    "Probability theory is the mathematical foundation of **Statistics**, which is the field on mathematics which provides the tools which are used to analyze and understand the random systems. "
   ]
  },
  {
   "cell_type": "markdown",
   "metadata": {},
   "source": [
    "There are two philosophies in statistics and they differ from each other in the way they define probability. \n",
    "- A **Bayesian** thinks of probability as the amount of belief you have in an event. \n",
    "- A **Frequentist** thinks that probability is the long term frequency of repeated random experiments. \n",
    "\n",
    "https://www.probabilisticworld.com/frequentist-bayesian-approaches-inferential-statistics/\n",
    "\n",
    "As you may have guessed, these differences don't affect the value of the probability. 0 is still impossible is 1 is still completely certain. What is different is the meaning of that number. This difference becomes relevant when conducting statistical inference (don't worry about what this is, we haven't discussed it yet) to ensure we know what the results are actually telling us. \n",
    "\n",
    "Usually these terms are not discussed at the beginning of courses and texts, since most of them just stick to the frequentist approach. Overall we will not stick to one or the other. Our goal is to understand the concepts and not get involved in these philosophical ramblings. Let's leave those to the actual statisticians. \n",
    "\n",
    "Enough terminology for now. We'll define stuff as it becomes relevant from now on. "
   ]
  },
  {
   "cell_type": "markdown",
   "metadata": {},
   "source": [
    "##### The scenario\n",
    "\n",
    "From now on we live in a world where humans have slightly different genetics than the humans from our world. Some of these humans manifest superpowers at the age of 10 (from what we know so far), however the dormant genes are obviously still present in kids below the age of 10. \n",
    "\n",
    "Now let's say we have a bunch of these kids and we know the probability that a random child will manifest superpowers at age 10 and that is 40% (or 0.4). For now the source of this number (bayesian or frequentist interpretation of probability) is not important. Just knowing this number along with our total population (10,000) we can start the stats. "
   ]
  },
  {
   "cell_type": "code",
   "execution_count": 1,
   "metadata": {
    "ExecuteTime": {
     "end_time": "2019-08-15T01:27:58.537937Z",
     "start_time": "2019-08-15T01:27:58.531934Z"
    }
   },
   "outputs": [],
   "source": [
    "import numpy as np\n",
    "import matplotlib.pyplot as plt\n",
    "%matplotlib inline\n",
    "import seaborn as sns\n",
    "sns.set()\n",
    "from pywaffle import Waffle\n",
    "from ipywidgets import interactive, IntSlider, FloatLogSlider, FloatSlider\n",
    "\n",
    "import warnings\n",
    "warnings.filterwarnings(action='once')"
   ]
  },
  {
   "cell_type": "code",
   "execution_count": 2,
   "metadata": {
    "ExecuteTime": {
     "end_time": "2019-08-15T01:27:37.969936Z",
     "start_time": "2019-08-15T01:27:37.967977Z"
    }
   },
   "outputs": [],
   "source": [
    "population_size = 10_000\n",
    "superpower_prob = 0.4"
   ]
  },
  {
   "cell_type": "code",
   "execution_count": 3,
   "metadata": {
    "ExecuteTime": {
     "end_time": "2019-08-15T00:51:51.938335Z",
     "start_time": "2019-08-15T00:51:51.727329Z"
    }
   },
   "outputs": [
    {
     "name": "stderr",
     "output_type": "stream",
     "text": [
      "C:\\Users\\ruote\\Anaconda3\\lib\\site-packages\\matplotlib\\figure.py:2369: UserWarning: This figure includes Axes that are not compatible with tight_layout, so results might be incorrect.\n",
      "  warnings.warn(\"This figure includes Axes that are not compatible \"\n"
     ]
    },
    {
     "data": {
      "image/png": "[encoded data removed]",
      "text/plain": [
       "<Waffle size 432x288 with 1 Axes>"
      ]
     },
     "metadata": {
      "needs_background": "light"
     },
     "output_type": "display_data"
    }
   ],
   "source": [
    "data = {'Superpowered': population_size*superpower_prob, \n",
    "        'Regular': population_size*(1-superpower_prob)}\n",
    "fig = plt.figure(\n",
    "    FigureClass=Waffle, \n",
    "    rows=5,\n",
    "    columns=10,\n",
    "    values=data, \n",
    "    legend={'loc': 'upper left', 'bbox_to_anchor': (1.1, 1)}\n",
    ");"
   ]
  },
  {
   "cell_type": "markdown",
   "metadata": {},
   "source": [
    "This visualization shows the population, each box represents 200 kids. You can see the relative sizes of both groups here because of the colors, but in reality these differences can not be detected until the child turns 10 and either develops a superpower or does not. You can also imagine some superpowers being so strange that the people don't even realize that it's there at all. So, developing ways to understand this phenomenon is important. Let's see what we can do. "
   ]
  },
  {
   "cell_type": "markdown",
   "metadata": {},
   "source": [
    "Suppose we pick a random child from the population. Now this child either has the superpower genes or doesn't. There is no middle ground here so you would be forgiven to think that the probability of having the gene in this particular child should be 0 or 1. But we do not actually have that knowledge which is why we assign values between 0 and 1 to show varying degrees of chance. We have the information and can say that there is a 40% chance that this child has the gene (note that this is true for *any* child we pick). This **event** has only 2 possible outcomes: the child either has the gene or doesn't. The actual value depends on some random function so we call the output of this event a **random variable**. "
   ]
  },
  {
   "cell_type": "markdown",
   "metadata": {},
   "source": [
    "Such a random variable which can have only two unique values is called a **Bernoulli Random Variable**. To describe a Bernoulli RV completely all we need is the single probability. Conventionally we use the terms 'success' and 'failure' to talk about the two values of a Bernoulli RV, but which outcome is considered a 'success' is completely arbitrary. \n",
    "\n",
    "Now if we have a test to determine with complete certainty whether a child has the genes or not, we can use that test on a single child one by one and count the number of children in each category we get. After a hundred children, these are our results. It is important to note here that since the process is random, if we repeat this **experiment** again with 100 different kids we will get different numbers. There is a chance that all 100 have the superpowered genes, the chance may be very slim but it is not exactly 0. \n",
    "\n",
    "This graph is called a histogram, it shows the counts of each distinct value of a random variable as the height of the rectangle. Technically speaking the area tells the count, but since the widths of these rectangles are 1 we can just look at the heights. "
   ]
  },
  {
   "cell_type": "code",
   "execution_count": 4,
   "metadata": {
    "ExecuteTime": {
     "end_time": "2019-08-15T00:50:41.272154Z",
     "start_time": "2019-08-15T00:50:41.155119Z"
    }
   },
   "outputs": [
    {
     "data": {
      "image/png": "[encoded data removed]",
      "text/plain": [
       "<Figure size 432x288 with 1 Axes>"
      ]
     },
     "metadata": {
      "needs_background": "light"
     },
     "output_type": "display_data"
    }
   ],
   "source": [
    "vals = np.random.binomial(1, 0.4, size=(100,))\n",
    "plt.hist(vals);\n",
    "plt.title(f'Ratio of superpowered: {vals.sum()/len(vals)}');\n",
    "plt.xlim(-0.2, 1.2);\n",
    "plt.xticks([0,1]);"
   ]
  },
  {
   "cell_type": "markdown",
   "metadata": {},
   "source": [
    "We started with a Bernoulli RV (whether a child has the gene or not) and we counted the number of 'successes' we get after $n$ (100) repeats of the experiment. The number of successes is another kind of RV, a **Binomial Random Variable**. \n",
    "\n",
    "Now we will run this experiment of detecting genes in the children a bunch of times. After 100 repeats, what do you think will be the approximate number of 1s? You could look at the graph we just saw, but remember those are the outputs of a random process. So after one set of 100 runs we might have 20 1s, but after another we might have 50. So asking about the exact number of 1s we get is a sill question because it will be different each time. What is a more interesting and useful question is what is the *most likely* number of 1s we will get. \n",
    "\n",
    "The following histogram shows the results of this new (slightly more complicated) experiment. The first time we got 30 1s so we put 1 in the rectangle over 30, the next time we got 50 and we assigned it to that rectangle and so on. After 1000 repetitions, this is the result, a smooth looking **distribution** over the possible values. The **support** of this binomial RV is all integer values from 0 to 100. Looking at the graph we can see that the most common values are around 40. This is not a coincidence, no matter how many times we repeat this binomial trial, the most common values will always be around 40. This is a consequence of the **parameters** of this binomial distribution. Unlike the simpler Bernoulli, a binomial distribution is completely described (parametrized) by the probability of success $p$ and the number of Bernoulli trials $n$ in one binomial experiment. \n",
    "\n",
    "You can play with the sliders to see how varying the parameters affects the final binomial distribution. The most likely value of a probability distribution is called the **Expected Value** (or mean/average). The exact value for the expected value for a binomial distribution is simply $n*p$. "
   ]
  },
  {
   "cell_type": "code",
   "execution_count": 5,
   "metadata": {
    "ExecuteTime": {
     "end_time": "2019-08-15T01:28:24.444935Z",
     "start_time": "2019-08-15T01:28:24.280971Z"
    },
    "scrolled": false
   },
   "outputs": [
    {
     "data": {
      "application/vnd.jupyter.widget-view+json": {
       "model_id": "47caf9b950ce44adb25d1a7149d34dec",
       "version_major": 2,
       "version_minor": 0
      },
      "text/plain": [
       "interactive(children=(IntSlider(value=100, description='n', max=450, min=1, step=50), FloatSlider(value=0.4, d…"
      ]
     },
     "metadata": {},
     "output_type": "display_data"
    }
   ],
   "source": [
    "def func(n, p):\n",
    "    plt.hist(np.random.binomial(n, p, size=(1000,)))\n",
    "    plt.xlim(-5, n+5);\n",
    "    plt.title(f'Expected Value: {n*p:.1f}')\n",
    "\n",
    "interactive(func, \n",
    "            n=IntSlider(value=100, min=1, max=450, step=50),\n",
    "            p=FloatSlider(value=superpower_prob, min=1e-3, max=1, step=1e-2))"
   ]
  }
 ],
 "metadata": {
  "kernelspec": {
   "display_name": "Python 3",
   "language": "python",
   "name": "python3"
  },
  "language_info": {
   "codemirror_mode": {
    "name": "ipython",
    "version": 3
   },
   "file_extension": ".py",
   "mimetype": "text/x-python",
   "name": "python",
   "nbconvert_exporter": "python",
   "pygments_lexer": "ipython3",
   "version": "3.7.1"
  },
  "toc": {
   "base_numbering": 1,
   "nav_menu": {},
   "number_sections": true,
   "sideBar": true,
   "skip_h1_title": false,
   "title_cell": "Table of Contents",
   "title_sidebar": "Contents",
   "toc_cell": false,
   "toc_position": {},
   "toc_section_display": true,
   "toc_window_display": false
  }
 },
 "nbformat": 4,
 "nbformat_minor": 2
}
