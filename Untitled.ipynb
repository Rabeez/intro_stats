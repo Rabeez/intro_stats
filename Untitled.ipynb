{
 "cells": [
  {
   "cell_type": "markdown",
   "metadata": {
    "toc-hr-collapsed": false
   },
   "source": [
    "# Intro to Statistics: With 100% more Superpowers and way less Maths\n",
    "\n",
    "### The fundamentals of stats covered with minimal maths jargon by focusing on intuition and experimentation"
   ]
  },
  {
   "cell_type": "markdown",
   "metadata": {},
   "source": [
    "Probability and Statistics are two branches of mathematics which are intrinsically linked together. To properly understand one you need to atleast have a basic understanding of the other. I will attempt to explore basic statistics in this article using as little maths as possible and using simple experiments to demonstrate statistical concepts. \n",
    "\n",
    "*The only prerequisite is an understanding of basic maths like counting, arithmetic and functions. If you know some calculus you can dig deeper and explore the details behind the concepts but I won't be discussing them in this article.*\n",
    "\n",
    "Let's start by defining just a few terms to get started, then we will jump into an alternate universe (with 100% more superpowers) where we will be asked to solve a few problems. "
   ]
  },
  {
   "cell_type": "markdown",
   "metadata": {},
   "source": [
    "Our goal here is to learn statistical tools which can be used to better understand and model the world around us. These tools are used in fields ranging from biology to political science and everything in between. Wherever you find data which has valuable information buried in it, statistics is your friend. \n",
    "\n",
    "The real world is messy and unpredictable so how can we hope to model it ourselves? The key is to quantify the randomness inherent in these real world systems. This quantification is called **Probability**, it's a number between 0 and 1. Here if an event has a probability of 0, it means it is impossible to occur, and 1 means that the event is completely certain. "
   ]
  },
  {
   "cell_type": "markdown",
   "metadata": {},
   "source": [
    "Probability theory is the mathematical foundation of **Statistics**, which is the field on mathematics which provides the tools which are used to analyze and understand the random systems. "
   ]
  },
  {
   "cell_type": "markdown",
   "metadata": {},
   "source": [
    "There are two philosophies in statistics and they differ from each other in the way they define probability. \n",
    "- A **Bayesian** thinks of probability as the amount of belief you have in an event. \n",
    "- A **Frequentist** thinks that probability is the long term frequency of repeated random experiments. \n",
    "\n",
    "https://www.probabilisticworld.com/frequentist-bayesian-approaches-inferential-statistics/\n",
    "\n",
    "As you may have guessed, these differences don't affect the value of the probability. 0 is still impossible is 1 is still completely certain. What is different is the meaning of that number. This difference becomes relevant when conducting statistical inference (don't worry about what this is, we haven't discussed it yet) to ensure we know what the results are actually telling us. \n",
    "\n",
    "Usually these terms are not discussed at the beginning of courses and texts, since most of them just stick to the frequentist approach. Overall we will not stick to one or the other. Our goal is to understand the concepts and not get involved in these philosophical ramblings. Let's leave those to the actual statisticians. \n",
    "\n",
    "Enough terminology for now. We'll define stuff as it becomes relevant from now on. "
   ]
  },
  {
   "cell_type": "markdown",
   "metadata": {},
   "source": [
    "##### The scenario\n",
    "\n",
    "From now on we live in a world where humans have slightly different genetics than the humans from our world. Some of these humans manifest superpowers at the age of 10 (from what we know so far), however the dormant genes are obviously still present in kids below the age of 10. \n",
    "\n",
    "Now let's say we have a bunch of these kids and we know the probability that a random child will manifest superpowers at age 10 and that is 40% (or 0.4). For now the source of this number (bayesian or frequentist interpretation of probability) is not important. Just knowing this number along with our total population (10,000) we can start the stats. "
   ]
  },
  {
   "cell_type": "code",
   "execution_count": 1,
   "metadata": {
    "ExecuteTime": {
     "end_time": "2019-08-15T01:27:58.537937Z",
     "start_time": "2019-08-15T01:27:58.531934Z"
    }
   },
   "outputs": [],
   "source": [
    "import numpy as np\n",
    "import matplotlib.pyplot as plt\n",
    "%matplotlib inline\n",
    "import seaborn as sns\n",
    "sns.set()\n",
    "from pywaffle import Waffle\n",
    "from ipywidgets import interactive, IntSlider, FloatLogSlider, FloatSlider\n",
    "\n",
    "import warnings\n",
    "warnings.filterwarnings(action='once')"
   ]
  },
  {
   "cell_type": "code",
   "execution_count": 2,
   "metadata": {
    "ExecuteTime": {
     "end_time": "2019-08-15T01:27:37.969936Z",
     "start_time": "2019-08-15T01:27:37.967977Z"
    }
   },
   "outputs": [],
   "source": [
    "population_size = 10_000\n",
    "superpower_prob = 0.4"
   ]
  },
  {
   "cell_type": "code",
   "execution_count": 3,
   "metadata": {
    "ExecuteTime": {
     "end_time": "2019-08-15T00:51:51.938335Z",
     "start_time": "2019-08-15T00:51:51.727329Z"
    }
   },
   "outputs": [
    {
     "name": "stderr",
     "output_type": "stream",
     "text": [
      "C:\\Users\\ruote\\Anaconda3\\lib\\site-packages\\matplotlib\\figure.py:2369: UserWarning: This figure includes Axes that are not compatible with tight_layout, so results might be incorrect.\n",
      "  warnings.warn(\"This figure includes Axes that are not compatible \"\n"
     ]
    },
    {
     "data": {
      "image/png": "[encoded data removed]",
      "text/plain": [
       "<Waffle size 432x288 with 1 Axes>"
      ]
     },
     "metadata": {
      "needs_background": "light"
     },
     "output_type": "display_data"
    }
   ],
   "source": [
    "data = {'Superpowered': population_size*superpower_prob, \n",
    "        'Regular': population_size*(1-superpower_prob)}\n",
    "fig = plt.figure(\n",
    "    FigureClass=Waffle, \n",
    "    rows=5,\n",
    "    columns=10,\n",
    "    values=data, \n",
    "    legend={'loc': 'upper left', 'bbox_to_anchor': (1.1, 1)}\n",
    ");"
   ]
  },
  {
   "cell_type": "markdown",
   "metadata": {},
   "source": [
    "This visualization shows the population, each box represents 200 kids. You can see the relative sizes of both groups here because of the colors, but in reality these differences can not be detected until the child turns 10 and either develops a superpower or does not. You can also imagine some superpowers being so strange that the people don't even realize that it's there at all. So, developing ways to understand this phenomenon is important. Let's see what we can do. "
   ]
  },
  {
   "cell_type": "markdown",
   "metadata": {},
   "source": [
    "Suppose we pick a random child from the population. Now this child either has the superpower genes or doesn't. There is no middle ground here so you would be forgiven to think that the probability of having the gene in this particular child should be 0 or 1. But we do not actually have that knowledge which is why we assign values between 0 and 1 to show varying degrees of chance. We have the information and can say that there is a 40% chance that this child has the gene (note that this is true for *any* child we pick). This **event** has only 2 possible outcomes: the child either has the gene or doesn't. The actual value depends on some random function so we call the output of this event a **random variable**. "
   ]
  },
  {
   "cell_type": "markdown",
   "metadata": {},
   "source": [
    "Such a random variable which can have only two unique values is called a **Bernoulli Random Variable**. To describe a Bernoulli RV completely all we need is the single probability. Conventionally we use the terms 'success' and 'failure' to talk about the two values of a Bernoulli RV, but which outcome is considered a 'success' is completely arbitrary. \n",
    "\n",
    "Now if we have a test to determine with complete certainty whether a child has the genes or not, we can use that test on a single child one by one and count the number of children in each category we get. After a hundred children, these are our results. It is important to note here that since the process is random, if we repeat this **experiment** again with 100 different kids we will get different numbers. There is a chance that all 100 have the superpowered genes, the chance may be very slim but it is not exactly 0. \n",
    "\n",
    "This graph is called a histogram, it shows the counts of each distinct value of a random variable as the height of the rectangle. Technically speaking the area tells the count, but since the widths of these rectangles are 1 we can just look at the heights. "
   ]
  },
  {
   "cell_type": "code",
   "execution_count": 8,
   "metadata": {
    "ExecuteTime": {
     "end_time": "2019-08-15T00:50:41.272154Z",
     "start_time": "2019-08-15T00:50:41.155119Z"
    }
   },
   "outputs": [
    {
     "data": {
      "image/png": "[encoded data removed]",
      "text/plain": [
       "<Figure size 432x288 with 1 Axes>"
      ]
     },
     "metadata": {
      "needs_background": "light"
     },
     "output_type": "display_data"
    }
   ],
   "source": [
    "np.random.seed(42)\n",
    "vals = np.random.binomial(1, 0.4, size=(100,))\n",
    "plt.hist(vals);\n",
    "plt.title(f'Ratio of superpowered: {vals.sum()/len(vals)}');\n",
    "plt.xlim(-0.2, 1.2);\n",
    "plt.xticks([0,1]);"
   ]
  },
  {
   "cell_type": "markdown",
   "metadata": {},
   "source": [
    "We started with a Bernoulli RV (whether a child has the gene or not) and we counted the number of 'successes' we get after $n$ (100) repeats of the experiment. The number of successes is another kind of RV, a **Binomial Random Variable**. \n",
    "\n",
    "Now we will run this experiment of detecting genes in the children a bunch of times. After 100 repeats, what do you think will be the approximate number of 1s? You could look at the graph we just saw, but remember those are the outputs of a random process. So after one set of 100 runs we might have 20 1s, but after another we might have 50. So asking about the exact number of 1s we get is a sill question because it will be different each time. What is a more interesting and useful question is what is the *most likely* number of 1s we will get. \n",
    "\n",
    "The following histogram shows the results of this new (slightly more complicated) experiment. The first time we got 30 1s so we put 1 in the rectangle over 30, the next time we got 50 and we assigned it to that rectangle and so on. After 1000 repetitions, this is the result, a smooth looking **distribution** over the possible values. The **support** of this binomial RV is all integer values from 0 to 100. Looking at the graph we can see that the most common values are around 40. This is not a coincidence, no matter how many times we repeat this binomial trial, the most common values will always be around 40. This is a consequence of the **parameters** of this binomial distribution. Unlike the simpler Bernoulli, a binomial distribution is completely described (parametrized) by the probability of success $p$ and the number of Bernoulli trials $n$ in one binomial experiment. \n",
    "\n",
    "You can play with the sliders to see how varying the parameters affects the final binomial distribution. The most likely value of a probability distribution is called the **Expected Value** (or mean/average). The exact value for the expected value for a binomial distribution is simply $n*p$. "
   ]
  },
  {
   "cell_type": "code",
   "execution_count": 7,
   "metadata": {
    "ExecuteTime": {
     "end_time": "2019-08-15T01:28:24.444935Z",
     "start_time": "2019-08-15T01:28:24.280971Z"
    }
   },
   "outputs": [
    {
     "data": {
      "application/vnd.jupyter.widget-view+json": {
       "model_id": "f974031a5f3e412983e15666781cb5d8",
       "version_major": 2,
       "version_minor": 0
      },
      "text/plain": [
       "interactive(children=(IntSlider(value=100, description='n', max=450, min=1, step=20), FloatSlider(value=0.4, d…"
      ]
     },
     "metadata": {},
     "output_type": "display_data"
    }
   ],
   "source": [
    "def func(n, p):\n",
    "    np.random.seed(42)\n",
    "    plt.hist(np.random.binomial(n, p, size=(1000,)))\n",
    "    plt.xlim(-5, n+5);\n",
    "    plt.title(f'Expected Value: {n*p:.1f}')\n",
    "\n",
    "interactive(func, \n",
    "            n=IntSlider(value=100, min=1, max=450, step=20),\n",
    "            p=FloatSlider(value=superpower_prob, min=1e-3, max=1, step=1e-2))"
   ]
  },
  {
   "cell_type": "markdown",
   "metadata": {},
   "source": [
    "The number of Bernoulli trials $n$ is called the **sample** size. A sample is simply a subset of the total population which can be used as a surrogate or stand-in for the entire population. This is an important idea so we will spend some time dissecting it. When we were conducting the Binomial experiments, each Binomial trial consisted of $n$ Bernoulli trials and a statistic was calculated for those $n$ trials in the sample. We were using **Random Sampling**, since each child had equal chance of being added to the sample. This is an understandably fair strategy, since our goal when working with a sample instead of the entire population is to make judgments about the population without directly working with it. \n",
    "\n",
    "To understand this, think about our entire population of children (10,000) which is a massive number to run this test on. So if we need to make some decisions based on the test results, we can pick some number ($n$, ideally much smaller than population size) and run the test on them instead. \n",
    "\n",
    "Now consider, if those $n$ kids all had blonde hair and we made a decision for the entire population based on our readings on the sample only. Would that be okay? Well if we were sure that the hair color of a child has absolutely nothing to do with them having the superpower gene, then it would be completely okay to do this. This would mean that having blonde hair color and having the superpower gene are **statistically independent** events, they have no bearing on one another. The problem is that with complex real world systems we rarely, if ever, can be sure of statistical independence between events so making these kinds of **modeling assumptions** can be very dangerous. \n",
    "\n",
    "Let's discuss this a bit more formally. We are talking about one variable (presence of the superpower gene) in relation to another variable (presence of blonde hair). If we want to test the gene variable and we are not sure whether the two variable have any effect on one another, we should create our samples using random sampling. This will ensure equal probability is ascribed to kids irrespective of their hair color. If we are picking only blonde haired kids, we are introducing a **Bias** in our samples, which can pollute our final decision. Look at the waffle chart below. The population has less kids with blonde hair but the percentage of kids that have the superpower gene are much higher in the group with blonde hair. So if we were calculating the **proportion** of kids with potential superpowers, we would get a much higher value using our biased samples. "
   ]
  },
  {
   "cell_type": "code",
   "execution_count": 46,
   "metadata": {},
   "outputs": [
    {
     "data": {
      "image/png": "[encoded data removed]",
      "text/plain": [
       "<Waffle size 432x288 with 2 Axes>"
      ]
     },
     "metadata": {
      "needs_background": "light"
     },
     "output_type": "display_data"
    }
   ],
   "source": [
    "fig = plt.figure(\n",
    "    FigureClass=Waffle,\n",
    "    plots={\n",
    "        '211': {\n",
    "            'values': {'Superpowered': 300, 'Regular': 300},\n",
    "            'legend': {'loc': 'upper left', 'bbox_to_anchor': (1.0, 1)},\n",
    "            'title': {'label': 'Other Hair Colors', 'loc': 'left'},\n",
    "            'rows':3\n",
    "        },\n",
    "        '212': {\n",
    "            'values': {'Superpowered': 300, 'Regular': 100},\n",
    "            'legend': {'loc': 'upper left', 'bbox_to_anchor': (1.0, 1)},\n",
    "            'title': {'label': 'Blonde Hair', 'loc': 'left'},\n",
    "            'rows':2\n",
    "        },\n",
    "    },\n",
    "    columns=10\n",
    ");"
   ]
  },
  {
   "cell_type": "markdown",
   "metadata": {},
   "source": [
    "We looked at one way to prevent sampling bias using random sampling. Let's see what would happen in the case of this example population (the one in the waffle chart above). Since we are randomly sampling kids, we can have samples which would only contain kids with blonde hair but this probability becomes lower as we increase the sample size $n$. We will see later using an experiment how varying the sample size affects our final answer. \n",
    "\n",
    "Another relatively simple way to ensure fair sampling is to use **Stratified Sampling**. This takes care of the issue of different samples having different proportion of blonde kids. We can fix what proportion of blonde kids we want in all the samples. Since 40% of the kids are blonde in the population, let's fix our desired proportion at the same level. This way our samples will mimic the population as much as possible, which is a good thing for us. Now we can safely say that the samples are **representative** of the population. "
   ]
  },
  {
   "cell_type": "markdown",
   "metadata": {},
   "source": []
  },
  {
   "cell_type": "markdown",
   "metadata": {},
   "source": []
  },
  {
   "cell_type": "markdown",
   "metadata": {},
   "source": []
  },
  {
   "cell_type": "markdown",
   "metadata": {},
   "source": []
  },
  {
   "cell_type": "markdown",
   "metadata": {},
   "source": []
  }
 ],
 "metadata": {
  "kernelspec": {
   "display_name": "Python 3",
   "language": "python",
   "name": "python3"
  },
  "language_info": {
   "codemirror_mode": {
    "name": "ipython",
    "version": 3
   },
   "file_extension": ".py",
   "mimetype": "text/x-python",
   "name": "python",
   "nbconvert_exporter": "python",
   "pygments_lexer": "ipython3",
   "version": "3.7.1"
  },
  "toc": {
   "base_numbering": 1,
   "nav_menu": {},
   "number_sections": true,
   "sideBar": true,
   "skip_h1_title": false,
   "title_cell": "Table of Contents",
   "title_sidebar": "Contents",
   "toc_cell": false,
   "toc_position": {},
   "toc_section_display": true,
   "toc_window_display": false
  },
  "toc-autonumbering": false,
  "widgets": {
   "application/vnd.jupyter.widget-state+json": {
    "state": {
     "0ef25e994ec14d678a64229b74f63400": {
      "model_module": "@jupyter-widgets/output",
      "model_module_version": "1.0.0",
      "model_name": "OutputModel",
      "state": {
       "layout": "IPY_MODEL_452223bc50e144668dc1100d8c702056",
       "outputs": [
        {
         "data": {
          "image/png": "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\n",
          "text/plain": "<Figure size 432x288 with 1 Axes>"
         },
         "metadata": {
          "needs_background": "light"
         },
         "output_type": "display_data"
        }
       ]
      }
     },
     "17d3bee52cc84cc8850f76096e4935e1": {
      "model_module": "@jupyter-widgets/controls",
      "model_module_version": "1.5.0",
      "model_name": "FloatSliderModel",
      "state": {
       "description": "p",
       "layout": "IPY_MODEL_eafa0c1d7f7144b4a67196558fbd27e3",
       "max": 1,
       "min": 0.001,
       "step": 0.01,
       "style": "IPY_MODEL_5d8a4411b90a426cb5fa16640df2daf2",
       "value": 0.4
      }
     },
     "1ef2c23d24e74942b831897eb151c3c2": {
      "model_module": "@jupyter-widgets/base",
      "model_module_version": "1.2.0",
      "model_name": "LayoutModel",
      "state": {}
     },
     "30303612a4bb4e818ca1dd82a77e0b3d": {
      "model_module": "@jupyter-widgets/controls",
      "model_module_version": "1.5.0",
      "model_name": "SliderStyleModel",
      "state": {
       "description_width": ""
      }
     },
     "3a9614ed43e041ebb12757e780314aa9": {
      "model_module": "@jupyter-widgets/controls",
      "model_module_version": "1.5.0",
      "model_name": "FloatSliderModel",
      "state": {
       "description": "p",
       "layout": "IPY_MODEL_d2ec7994407747d5ae5f09b9d5d8cc0f",
       "max": 1,
       "min": 0.001,
       "step": 0.01,
       "style": "IPY_MODEL_b41ae92926004e36a9c7bc55ef174348",
       "value": 0.4
      }
     },
     "452223bc50e144668dc1100d8c702056": {
      "model_module": "@jupyter-widgets/base",
      "model_module_version": "1.2.0",
      "model_name": "LayoutModel",
      "state": {}
     },
     "4efac989155d447b884de4929672e724": {
      "model_module": "@jupyter-widgets/controls",
      "model_module_version": "1.5.0",
      "model_name": "VBoxModel",
      "state": {
       "_dom_classes": [
        "widget-interact"
       ],
       "children": [
        "IPY_MODEL_7ed41b22bec843108aa939784890200e",
        "IPY_MODEL_17d3bee52cc84cc8850f76096e4935e1",
        "IPY_MODEL_0ef25e994ec14d678a64229b74f63400"
       ],
       "layout": "IPY_MODEL_e1fa8546cfb5457e91bb3ed4011bc2a9"
      }
     },
     "582ea9abdcd541bfbdbe66255dba6be7": {
      "model_module": "@jupyter-widgets/controls",
      "model_module_version": "1.5.0",
      "model_name": "FloatSliderModel",
      "state": {
       "description": "p",
       "layout": "IPY_MODEL_5c496ab0d0db4e9ca8b7017925dd842a",
       "max": 1,
       "min": 0.001,
       "step": 0.01,
       "style": "IPY_MODEL_30303612a4bb4e818ca1dd82a77e0b3d",
       "value": 0.4
      }
     },
     "589a720af9bf476194749c2b1685321d": {
      "model_module": "@jupyter-widgets/controls",
      "model_module_version": "1.5.0",
      "model_name": "SliderStyleModel",
      "state": {
       "description_width": ""
      }
     },
     "5c496ab0d0db4e9ca8b7017925dd842a": {
      "model_module": "@jupyter-widgets/base",
      "model_module_version": "1.2.0",
      "model_name": "LayoutModel",
      "state": {}
     },
     "5d8a4411b90a426cb5fa16640df2daf2": {
      "model_module": "@jupyter-widgets/controls",
      "model_module_version": "1.5.0",
      "model_name": "SliderStyleModel",
      "state": {
       "description_width": ""
      }
     },
     "6d62dbca52fb4d079ec52ec397308ff4": {
      "model_module": "@jupyter-widgets/base",
      "model_module_version": "1.2.0",
      "model_name": "LayoutModel",
      "state": {}
     },
     "6f672487387a46168649919b8c449dcf": {
      "model_module": "@jupyter-widgets/controls",
      "model_module_version": "1.5.0",
      "model_name": "SliderStyleModel",
      "state": {
       "description_width": ""
      }
     },
     "7ed41b22bec843108aa939784890200e": {
      "model_module": "@jupyter-widgets/controls",
      "model_module_version": "1.5.0",
      "model_name": "IntSliderModel",
      "state": {
       "description": "n",
       "layout": "IPY_MODEL_6d62dbca52fb4d079ec52ec397308ff4",
       "max": 450,
       "min": 1,
       "step": 20,
       "style": "IPY_MODEL_589a720af9bf476194749c2b1685321d",
       "value": 41
      }
     },
     "7f447e96646c49ae914c445f231cbb5f": {
      "model_module": "@jupyter-widgets/output",
      "model_module_version": "1.0.0",
      "model_name": "OutputModel",
      "state": {
       "layout": "IPY_MODEL_1ef2c23d24e74942b831897eb151c3c2",
       "outputs": [
        {
         "data": {
          "image/png": "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\n",
          "text/plain": "<Figure size 432x288 with 1 Axes>"
         },
         "metadata": {
          "needs_background": "light"
         },
         "output_type": "display_data"
        }
       ]
      }
     },
     "824830245a424f4aafdd3856893d0296": {
      "model_module": "@jupyter-widgets/base",
      "model_module_version": "1.2.0",
      "model_name": "LayoutModel",
      "state": {}
     },
     "8864bd6d079b40c890b0ece9dcd95ca1": {
      "model_module": "@jupyter-widgets/controls",
      "model_module_version": "1.5.0",
      "model_name": "IntSliderModel",
      "state": {
       "description": "n",
       "layout": "IPY_MODEL_e1fc03f4402b48a1869fe00adc3de1e3",
       "max": 450,
       "min": 1,
       "step": 20,
       "style": "IPY_MODEL_f950c06a67514eabafadeff9ca6c9c03",
       "value": 61
      }
     },
     "af36736507054e04b045e4541fd63f32": {
      "model_module": "@jupyter-widgets/base",
      "model_module_version": "1.2.0",
      "model_name": "LayoutModel",
      "state": {}
     },
     "af6d5aef222a4dfb94ac6d330c4d5b48": {
      "model_module": "@jupyter-widgets/base",
      "model_module_version": "1.2.0",
      "model_name": "LayoutModel",
      "state": {}
     },
     "b41ae92926004e36a9c7bc55ef174348": {
      "model_module": "@jupyter-widgets/controls",
      "model_module_version": "1.5.0",
      "model_name": "SliderStyleModel",
      "state": {
       "description_width": ""
      }
     },
     "d2ec7994407747d5ae5f09b9d5d8cc0f": {
      "model_module": "@jupyter-widgets/base",
      "model_module_version": "1.2.0",
      "model_name": "LayoutModel",
      "state": {}
     },
     "dc6614652cf048e6bfb3df101b5518e1": {
      "model_module": "@jupyter-widgets/output",
      "model_module_version": "1.0.0",
      "model_name": "OutputModel",
      "state": {
       "layout": "IPY_MODEL_af6d5aef222a4dfb94ac6d330c4d5b48",
       "outputs": [
        {
         "data": {
          "image/png": "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\n",
          "text/plain": "<Figure size 432x288 with 1 Axes>"
         },
         "metadata": {
          "needs_background": "light"
         },
         "output_type": "display_data"
        }
       ]
      }
     },
     "df8a6e7d01fb442490d0450d7952d4bf": {
      "model_module": "@jupyter-widgets/base",
      "model_module_version": "1.2.0",
      "model_name": "LayoutModel",
      "state": {}
     },
     "e1fa8546cfb5457e91bb3ed4011bc2a9": {
      "model_module": "@jupyter-widgets/base",
      "model_module_version": "1.2.0",
      "model_name": "LayoutModel",
      "state": {}
     },
     "e1fc03f4402b48a1869fe00adc3de1e3": {
      "model_module": "@jupyter-widgets/base",
      "model_module_version": "1.2.0",
      "model_name": "LayoutModel",
      "state": {}
     },
     "e6e464eee50f4ca9b9172d6ccef12cbf": {
      "model_module": "@jupyter-widgets/controls",
      "model_module_version": "1.5.0",
      "model_name": "IntSliderModel",
      "state": {
       "description": "n",
       "layout": "IPY_MODEL_df8a6e7d01fb442490d0450d7952d4bf",
       "max": 450,
       "min": 1,
       "step": 50,
       "style": "IPY_MODEL_6f672487387a46168649919b8c449dcf",
       "value": 51
      }
     },
     "eafa0c1d7f7144b4a67196558fbd27e3": {
      "model_module": "@jupyter-widgets/base",
      "model_module_version": "1.2.0",
      "model_name": "LayoutModel",
      "state": {}
     },
     "f950c06a67514eabafadeff9ca6c9c03": {
      "model_module": "@jupyter-widgets/controls",
      "model_module_version": "1.5.0",
      "model_name": "SliderStyleModel",
      "state": {
       "description_width": ""
      }
     },
     "f974031a5f3e412983e15666781cb5d8": {
      "model_module": "@jupyter-widgets/controls",
      "model_module_version": "1.5.0",
      "model_name": "VBoxModel",
      "state": {
       "_dom_classes": [
        "widget-interact"
       ],
       "children": [
        "IPY_MODEL_8864bd6d079b40c890b0ece9dcd95ca1",
        "IPY_MODEL_582ea9abdcd541bfbdbe66255dba6be7",
        "IPY_MODEL_7f447e96646c49ae914c445f231cbb5f"
       ],
       "layout": "IPY_MODEL_af36736507054e04b045e4541fd63f32"
      }
     },
     "ffad611f308e448d8e557ff4ec20599b": {
      "model_module": "@jupyter-widgets/controls",
      "model_module_version": "1.5.0",
      "model_name": "VBoxModel",
      "state": {
       "_dom_classes": [
        "widget-interact"
       ],
       "children": [
        "IPY_MODEL_e6e464eee50f4ca9b9172d6ccef12cbf",
        "IPY_MODEL_3a9614ed43e041ebb12757e780314aa9",
        "IPY_MODEL_dc6614652cf048e6bfb3df101b5518e1"
       ],
       "layout": "IPY_MODEL_824830245a424f4aafdd3856893d0296"
      }
     }
    },
    "version_major": 2,
    "version_minor": 0
   }
  }
 },
 "nbformat": 4,
 "nbformat_minor": 4
}
